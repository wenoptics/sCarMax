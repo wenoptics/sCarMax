{
 "cells": [
  {
   "cell_type": "code",
   "execution_count": 9,
   "metadata": {},
   "outputs": [],
   "source": [
    "import sys\n",
    "sys.path.insert(0, \"venv\\\\Lib\\\\site-packages\")\n",
    "\n",
    "from CarmaxBrowser import CarmaxBrowser\n",
    "from CarmaxAPI import CarmaxAPI\n",
    "\n",
    "import numpy as np\n",
    "import pandas as pd\n",
    "import sklearn as skl\n",
    "from sklearn.linear_model import LinearRegression\n",
    "from sklearn.preprocessing import MinMaxScaler"
   ]
  },
  {
   "cell_type": "code",
   "execution_count": 24,
   "metadata": {},
   "outputs": [],
   "source": [
    "class model_prediciton:\n",
    "    \n",
    "    def __init__(self, carmax_query='/cars?search=civic'):\n",
    "        self.carmax_query = carmax_query\n",
    "                 \n",
    "        browser = CarmaxBrowser()\n",
    "        api = CarmaxAPI(browser)\n",
    "        self.records = api.search_model_headless_all(search=carmax_query, zip_code=15206)\n",
    "        browser.close_browser()\n",
    "    \n",
    "    def fit(self):\n",
    "\n",
    "        interested_col = ['year', 'make', 'model', 'trim', 'msrp', 'mileage', 'basePrice', 'isNew', 'highlights']\n",
    "        self.df = pd.DataFrame(self.records, columns=[i for i in interested_col])\n",
    "\n",
    "        self.scaler = MinMaxScaler()\n",
    "        x_scaled = self.scaler.fit_transform([i for i in zip(self.df['year'], self.df['mileage'])])\n",
    "        y_ = self.df['basePrice']\n",
    "\n",
    "        self.model = LinearRegression().fit(x_scaled, y_)\n",
    "        #  model.score(x_scaled, y_)\n",
    "        return self\n",
    "    \n",
    "    def predict(self, year, mileage):\n",
    "        return self.model.predict( \n",
    "            self.scaler.transform( np.array([[year, mileage]]) )\n",
    "        )"
   ]
  },
  {
   "cell_type": "code",
   "execution_count": 53,
   "metadata": {},
   "outputs": [],
   "source": [
    "m = model_prediciton('/cars?search=Toyota%20Highlander').fit()"
   ]
  },
  {
   "cell_type": "code",
   "execution_count": 67,
   "metadata": {},
   "outputs": [
    {
     "data": {
      "text/html": [
       "<div>\n",
       "<style scoped>\n",
       "    .dataframe tbody tr th:only-of-type {\n",
       "        vertical-align: middle;\n",
       "    }\n",
       "\n",
       "    .dataframe tbody tr th {\n",
       "        vertical-align: top;\n",
       "    }\n",
       "\n",
       "    .dataframe thead th {\n",
       "        text-align: right;\n",
       "    }\n",
       "</style>\n",
       "<table border=\"1\" class=\"dataframe\">\n",
       "  <thead>\n",
       "    <tr style=\"text-align: right;\">\n",
       "      <th></th>\n",
       "      <th>year</th>\n",
       "      <th>make</th>\n",
       "      <th>model</th>\n",
       "      <th>trim</th>\n",
       "      <th>msrp</th>\n",
       "      <th>mileage</th>\n",
       "      <th>basePrice</th>\n",
       "      <th>isNew</th>\n",
       "      <th>highlights</th>\n",
       "    </tr>\n",
       "  </thead>\n",
       "  <tbody>\n",
       "    <tr>\n",
       "      <th>0</th>\n",
       "      <td>2015</td>\n",
       "      <td>Toyota</td>\n",
       "      <td>Highlander</td>\n",
       "      <td>LE PLUS</td>\n",
       "      <td>32200.0</td>\n",
       "      <td>49550</td>\n",
       "      <td>23998.0</td>\n",
       "      <td>False</td>\n",
       "      <td>[singleOwner]</td>\n",
       "    </tr>\n",
       "    <tr>\n",
       "      <th>1</th>\n",
       "      <td>2016</td>\n",
       "      <td>Toyota</td>\n",
       "      <td>Highlander</td>\n",
       "      <td>XLE</td>\n",
       "      <td>38100.0</td>\n",
       "      <td>30997</td>\n",
       "      <td>27998.0</td>\n",
       "      <td>False</td>\n",
       "      <td>[singleOwner, allNewTires, warranty]</td>\n",
       "    </tr>\n",
       "    <tr>\n",
       "      <th>2</th>\n",
       "      <td>2016</td>\n",
       "      <td>Toyota</td>\n",
       "      <td>Highlander</td>\n",
       "      <td>LE</td>\n",
       "      <td>33000.0</td>\n",
       "      <td>21264</td>\n",
       "      <td>25998.0</td>\n",
       "      <td>False</td>\n",
       "      <td>[singleOwner, lowMilesPerYear, warranty]</td>\n",
       "    </tr>\n",
       "    <tr>\n",
       "      <th>3</th>\n",
       "      <td>2016</td>\n",
       "      <td>Toyota</td>\n",
       "      <td>Highlander</td>\n",
       "      <td>XLE</td>\n",
       "      <td>38100.0</td>\n",
       "      <td>24581</td>\n",
       "      <td>29998.0</td>\n",
       "      <td>False</td>\n",
       "      <td>[singleOwner, lowMilesPerYear, warranty]</td>\n",
       "    </tr>\n",
       "    <tr>\n",
       "      <th>4</th>\n",
       "      <td>2015</td>\n",
       "      <td>Toyota</td>\n",
       "      <td>Highlander</td>\n",
       "      <td>XLE</td>\n",
       "      <td>37700.0</td>\n",
       "      <td>66502</td>\n",
       "      <td>24998.0</td>\n",
       "      <td>False</td>\n",
       "      <td>[singleOwner]</td>\n",
       "    </tr>\n",
       "    <tr>\n",
       "      <th>5</th>\n",
       "      <td>2016</td>\n",
       "      <td>Toyota</td>\n",
       "      <td>Highlander</td>\n",
       "      <td>XLE</td>\n",
       "      <td>38100.0</td>\n",
       "      <td>33260</td>\n",
       "      <td>28998.0</td>\n",
       "      <td>False</td>\n",
       "      <td>[singleOwner, warranty]</td>\n",
       "    </tr>\n",
       "    <tr>\n",
       "      <th>6</th>\n",
       "      <td>2016</td>\n",
       "      <td>Toyota</td>\n",
       "      <td>Highlander</td>\n",
       "      <td>LE PLUS</td>\n",
       "      <td>33000.0</td>\n",
       "      <td>10226</td>\n",
       "      <td>27998.0</td>\n",
       "      <td>False</td>\n",
       "      <td>[singleOwner, lowMiles, warranty]</td>\n",
       "    </tr>\n",
       "    <tr>\n",
       "      <th>7</th>\n",
       "      <td>2016</td>\n",
       "      <td>Toyota</td>\n",
       "      <td>Highlander</td>\n",
       "      <td>LE</td>\n",
       "      <td>33000.0</td>\n",
       "      <td>22752</td>\n",
       "      <td>26998.0</td>\n",
       "      <td>False</td>\n",
       "      <td>[singleOwner, lowMilesPerYear, warranty]</td>\n",
       "    </tr>\n",
       "    <tr>\n",
       "      <th>8</th>\n",
       "      <td>2016</td>\n",
       "      <td>Toyota</td>\n",
       "      <td>Highlander</td>\n",
       "      <td>LE PLUS</td>\n",
       "      <td>33000.0</td>\n",
       "      <td>29908</td>\n",
       "      <td>25998.0</td>\n",
       "      <td>False</td>\n",
       "      <td>[singleOwner, warranty]</td>\n",
       "    </tr>\n",
       "    <tr>\n",
       "      <th>9</th>\n",
       "      <td>2016</td>\n",
       "      <td>Toyota</td>\n",
       "      <td>Highlander</td>\n",
       "      <td>Limited</td>\n",
       "      <td>41900.0</td>\n",
       "      <td>18762</td>\n",
       "      <td>31998.0</td>\n",
       "      <td>False</td>\n",
       "      <td>[singleOwner, allNewTires, lowMiles, warranty,...</td>\n",
       "    </tr>\n",
       "  </tbody>\n",
       "</table>\n",
       "</div>"
      ],
      "text/plain": [
       "   year    make       model     trim     msrp  mileage  basePrice  isNew  \\\n",
       "0  2015  Toyota  Highlander  LE PLUS  32200.0    49550    23998.0  False   \n",
       "1  2016  Toyota  Highlander      XLE  38100.0    30997    27998.0  False   \n",
       "2  2016  Toyota  Highlander       LE  33000.0    21264    25998.0  False   \n",
       "3  2016  Toyota  Highlander      XLE  38100.0    24581    29998.0  False   \n",
       "4  2015  Toyota  Highlander      XLE  37700.0    66502    24998.0  False   \n",
       "5  2016  Toyota  Highlander      XLE  38100.0    33260    28998.0  False   \n",
       "6  2016  Toyota  Highlander  LE PLUS  33000.0    10226    27998.0  False   \n",
       "7  2016  Toyota  Highlander       LE  33000.0    22752    26998.0  False   \n",
       "8  2016  Toyota  Highlander  LE PLUS  33000.0    29908    25998.0  False   \n",
       "9  2016  Toyota  Highlander  Limited  41900.0    18762    31998.0  False   \n",
       "\n",
       "                                          highlights  \n",
       "0                                      [singleOwner]  \n",
       "1               [singleOwner, allNewTires, warranty]  \n",
       "2           [singleOwner, lowMilesPerYear, warranty]  \n",
       "3           [singleOwner, lowMilesPerYear, warranty]  \n",
       "4                                      [singleOwner]  \n",
       "5                            [singleOwner, warranty]  \n",
       "6                  [singleOwner, lowMiles, warranty]  \n",
       "7           [singleOwner, lowMilesPerYear, warranty]  \n",
       "8                            [singleOwner, warranty]  \n",
       "9  [singleOwner, allNewTires, lowMiles, warranty,...  "
      ]
     },
     "execution_count": 67,
     "metadata": {},
     "output_type": "execute_result"
    }
   ],
   "source": [
    "m.df"
   ]
  },
  {
   "cell_type": "code",
   "execution_count": 69,
   "metadata": {},
   "outputs": [
    {
     "data": {
      "text/plain": [
       "<matplotlib.axes._subplots.AxesSubplot at 0x1be84759ba8>"
      ]
     },
     "execution_count": 69,
     "metadata": {},
     "output_type": "execute_result"
    },
    {
     "data": {
      "image/png": "[encoded data removed]",
      "text/plain": [
       "<Figure size 432x288 with 1 Axes>"
      ]
     },
     "metadata": {},
     "output_type": "display_data"
    }
   ],
   "source": [
    "m.df['year'].hist()"
   ]
  },
  {
   "cell_type": "code",
   "execution_count": 55,
   "metadata": {},
   "outputs": [
    {
     "data": {
      "text/plain": [
       "array([3302.85608194, -738.85798567])"
      ]
     },
     "execution_count": 55,
     "metadata": {},
     "output_type": "execute_result"
    }
   ],
   "source": [
    "m.model.coef_"
   ]
  },
  {
   "cell_type": "code",
   "execution_count": 66,
   "metadata": {},
   "outputs": [
    {
     "data": {
      "text/plain": [
       "array([3499.79384911])"
      ]
     },
     "execution_count": 66,
     "metadata": {},
     "output_type": "execute_result"
    }
   ],
   "source": [
    "m.predict(2016, 50000) - m.fit().predict(2015, 65000)"
   ]
  }
 ],
 "metadata": {
  "kernelspec": {
   "display_name": "Python 3",
   "language": "python",
   "name": "python3"
  },
  "language_info": {
   "codemirror_mode": {
    "name": "ipython",
    "version": 3
   },
   "file_extension": ".py",
   "mimetype": "text/x-python",
   "name": "python",
   "nbconvert_exporter": "python",
   "pygments_lexer": "ipython3",
   "version": "3.6.5"
  }
 },
 "nbformat": 4,
 "nbformat_minor": 2
}
